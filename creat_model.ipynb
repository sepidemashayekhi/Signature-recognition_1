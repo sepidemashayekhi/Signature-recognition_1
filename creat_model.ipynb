{
  "nbformat": 4,
  "nbformat_minor": 0,
  "metadata": {
    "colab": {
      "name": "Untitled32.ipynb",
      "provenance": []
    },
    "kernelspec": {
      "name": "python3",
      "display_name": "Python 3"
    },
    "language_info": {
      "name": "python"
    },
    "accelerator": "GPU"
  },
  "cells": [
    {
      "cell_type": "code",
      "source": [
        "from keras.layers import Dense,MaxPooling2D,Flatten,Input,Conv2D,Concatenate\n",
        "from keras.preprocessing.image import ImageDataGenerator\n",
        "from keras.models import Model\n",
        "import os\n",
        "import numpy as np "
      ],
      "metadata": {
        "id": "FzZM_sK6Z-nL"
      },
      "execution_count": 2,
      "outputs": []
    },
    {
      "cell_type": "code",
      "source": [
        "batch_size=40"
      ],
      "metadata": {
        "id": "yiFmCP9nl-js"
      },
      "execution_count": 3,
      "outputs": []
    },
    {
      "cell_type": "code",
      "source": [
        "datagen=ImageDataGenerator(rescale=1./255,rotation_range=40,zoom_range=0.2,width_shift_range=0.2)\n",
        "# imageGenerator=datagen.flow_from_directory('/content/sample_data/data/train',batch_size=batch_size,target_size=(200,200),class_mode='binary')"
      ],
      "metadata": {
        "id": "DNljsdgFlxW5"
      },
      "execution_count": 4,
      "outputs": []
    },
    {
      "cell_type": "code",
      "source": [
        "from keras.applications import resnet\n"
      ],
      "metadata": {
        "id": "FxnSBCxWKvrf"
      },
      "execution_count": 5,
      "outputs": []
    },
    {
      "cell_type": "code",
      "source": [
        "base_con=resnet.ResNet50(weights='imagenet',include_top=False,input_shape=(200,200,3))"
      ],
      "metadata": {
        "id": "eerD3YvJLEcj"
      },
      "execution_count": 6,
      "outputs": []
    },
    {
      "cell_type": "code",
      "source": [
        "def extract_feature(directory,sample_count):\n",
        "  feature=np.zeros(shape=(sample_count,7,7,2048))\n",
        "  labels=np.zeros(shape=(sample_count))\n",
        "  imageGenerator=datagen.flow_from_directory(directory,\n",
        "                                             batch_size=batch_size,target_size=(200,200),class_mode='binary')\n",
        "  i=0\n",
        "  for image , label in imageGenerator:\n",
        "    F=base_con.predict(image)\n",
        "\n",
        "    feature[i*batch_size:(i+1)*batch_size]=F\n",
        "    labels[i*batch_size:(i+1)*batch_size]=label\n",
        "    i+=1\n",
        "    if i*batch_size>sample_count:\n",
        "      break\n",
        "    return feature, labels"
      ],
      "metadata": {
        "id": "PAOuHBWXNGao"
      },
      "execution_count": 7,
      "outputs": []
    },
    {
      "cell_type": "code",
      "source": [
        "train_dir='/content/sample_data/data/train/'"
      ],
      "metadata": {
        "id": "hspNmEVkPf6X"
      },
      "execution_count": 8,
      "outputs": []
    },
    {
      "cell_type": "code",
      "source": [
        "train_feature,train_label=extract_feature(train_dir,4640)"
      ],
      "metadata": {
        "colab": {
          "base_uri": "https://localhost:8080/"
        },
        "id": "esaooE0YPQG8",
        "outputId": "e2b619e4-061f-483f-9e67-2c56dbe6fc8b"
      },
      "execution_count": 9,
      "outputs": [
        {
          "output_type": "stream",
          "name": "stdout",
          "text": [
            "Found 4640 images belonging to 3 classes.\n"
          ]
        }
      ]
    },
    {
      "cell_type": "code",
      "source": [
        "dim=train_feature.shape[1]*train_feature.shape[2]*train_feature.shape[3]\n",
        "train_feature=np.reshape(train_feature,newshape=(4640,dim))"
      ],
      "metadata": {
        "id": "op4_H0H9QYn9"
      },
      "execution_count": 10,
      "outputs": []
    },
    {
      "cell_type": "code",
      "source": [
        "train_feature.shape"
      ],
      "metadata": {
        "colab": {
          "base_uri": "https://localhost:8080/"
        },
        "id": "_vzEadOPQ9dt",
        "outputId": "a96d2f9e-7374-41c7-a4d8-9f9fd5f65012"
      },
      "execution_count": 11,
      "outputs": [
        {
          "output_type": "execute_result",
          "data": {
            "text/plain": [
              "(4640, 100352)"
            ]
          },
          "metadata": {},
          "execution_count": 11
        }
      ]
    },
    {
      "cell_type": "code",
      "source": [
        "import cv2\n",
        "def thresh(image):\n",
        "    image=np.reshape(image,newshape=(200,200,3))\n",
        "    image=np.asarray(image)\n",
        "    image=cv2.cvtColor(image,cv2.COLOR_BGR2GRAY)\n",
        "    _,thresh=cv2.threshold(image,35,255,cv2.THRESH_BINARY)\n",
        "    return thresh"
      ],
      "metadata": {
        "id": "F_j9dKDPTEDv"
      },
      "execution_count": 12,
      "outputs": []
    },
    {
      "cell_type": "code",
      "source": [
        "FGenerator=datagen.flow_from_directory(train_dir,target_size=(200,200),batch_size=1,class_mode='binary')"
      ],
      "metadata": {
        "colab": {
          "base_uri": "https://localhost:8080/"
        },
        "id": "qckJ7HscTe5t",
        "outputId": "63b0356a-209b-49e6-ada0-bb903aea87d3"
      },
      "execution_count": 13,
      "outputs": [
        {
          "output_type": "stream",
          "name": "stdout",
          "text": [
            "Found 4640 images belonging to 3 classes.\n"
          ]
        }
      ]
    },
    {
      "cell_type": "code",
      "source": [
        "count=0\n",
        "feature_1=np.zeros(shape=(4640,200,200))\n",
        "for image , label in FGenerator:\n",
        "    f=thresh(image)\n",
        "    feature_1[count:(count+1)]=f\n",
        "    count+=1\n",
        "    if count ==130:\n",
        "        break"
      ],
      "metadata": {
        "id": "x9t5NuCzTVPx"
      },
      "execution_count": 15,
      "outputs": []
    },
    {
      "cell_type": "code",
      "source": [
        "feature_1=np.reshape(feature_1,newshape=(4640,200*200))\n",
        "feature_1.shape"
      ],
      "metadata": {
        "colab": {
          "base_uri": "https://localhost:8080/"
        },
        "id": "NCGq3tzCW8P0",
        "outputId": "15c0dfbe-74c3-41d8-8c6a-c7d6a59ce54d"
      },
      "execution_count": 16,
      "outputs": [
        {
          "output_type": "execute_result",
          "data": {
            "text/plain": [
              "(4640, 40000)"
            ]
          },
          "metadata": {},
          "execution_count": 16
        }
      ]
    },
    {
      "cell_type": "code",
      "source": [
        "from keras.layers import concatenate"
      ],
      "metadata": {
        "id": "56v8cHxQYa-S"
      },
      "execution_count": 17,
      "outputs": []
    },
    {
      "cell_type": "code",
      "source": [
        "image=Input(shape=(100352))\n",
        "F=Input(shape=40000)\n",
        "sum=concatenate([image,F])\n",
        "\n",
        "dense_2=Dense(120,activation='relu')(sum)\n",
        "dense_3=Dense(100,activation='relu')(dense_2)\n",
        "dense_4=Dense(50,activation='relu')(dense_3)\n",
        "output=Dense(1,activation='sigmoid')(dense_4)\n",
        "\n",
        "model=Model([image,F],output)\n",
        "\n",
        "model.compile(loss='binary_crossentropy',optimizer='adam',metrics=['acc'])"
      ],
      "metadata": {
        "id": "wz-usTI0Fraq"
      },
      "execution_count": 20,
      "outputs": []
    },
    {
      "cell_type": "code",
      "source": [
        "history=model.fit([train_feature,feature_1],train_label,batch_size=batch_size,validation_split=0.2,epochs=30)"
      ],
      "metadata": {
        "colab": {
          "base_uri": "https://localhost:8080/"
        },
        "id": "_5-Q3UeVIn6r",
        "outputId": "892bfcf6-86f3-45dd-e465-a947bd0495a3"
      },
      "execution_count": 21,
      "outputs": [
        {
          "output_type": "stream",
          "name": "stdout",
          "text": [
            "Epoch 1/30\n",
            "93/93 [==============================] - 4s 28ms/step - loss: -11.6516 - acc: 0.9849 - val_loss: 0.3823 - val_acc: 1.0000\n",
            "Epoch 2/30\n",
            "93/93 [==============================] - 2s 20ms/step - loss: -382.8847 - acc: 0.9954 - val_loss: 0.0190 - val_acc: 1.0000\n",
            "Epoch 3/30\n",
            "93/93 [==============================] - 2s 20ms/step - loss: -2921.2986 - acc: 0.9954 - val_loss: 7.2781e-04 - val_acc: 1.0000\n",
            "Epoch 4/30\n",
            "93/93 [==============================] - 2s 20ms/step - loss: -12059.4658 - acc: 0.9954 - val_loss: 0.0030 - val_acc: 1.0000\n",
            "Epoch 5/30\n",
            "93/93 [==============================] - 2s 20ms/step - loss: -31467.9980 - acc: 0.9954 - val_loss: 0.0076 - val_acc: 1.0000\n",
            "Epoch 6/30\n",
            "93/93 [==============================] - 2s 21ms/step - loss: -67830.5703 - acc: 0.9954 - val_loss: 2.4685e-06 - val_acc: 1.0000\n",
            "Epoch 7/30\n",
            "93/93 [==============================] - 2s 20ms/step - loss: -132371.9844 - acc: 0.9954 - val_loss: 7.9794e-08 - val_acc: 1.0000\n",
            "Epoch 8/30\n",
            "93/93 [==============================] - 2s 21ms/step - loss: -233626.7656 - acc: 0.9954 - val_loss: 7.9944e-14 - val_acc: 1.0000\n",
            "Epoch 9/30\n",
            "93/93 [==============================] - 2s 20ms/step - loss: -387020.4688 - acc: 0.9954 - val_loss: 0.0000e+00 - val_acc: 1.0000\n",
            "Epoch 10/30\n",
            "93/93 [==============================] - 2s 20ms/step - loss: -614317.1250 - acc: 0.9954 - val_loss: 0.0000e+00 - val_acc: 1.0000\n",
            "Epoch 11/30\n",
            "93/93 [==============================] - 2s 20ms/step - loss: -913480.6875 - acc: 0.9846 - val_loss: 0.0000e+00 - val_acc: 1.0000\n",
            "Epoch 12/30\n",
            "93/93 [==============================] - 2s 20ms/step - loss: -1302541.5000 - acc: 0.9954 - val_loss: 0.0000e+00 - val_acc: 1.0000\n",
            "Epoch 13/30\n",
            "93/93 [==============================] - 2s 20ms/step - loss: -1803606.7500 - acc: 0.9846 - val_loss: 0.0000e+00 - val_acc: 1.0000\n",
            "Epoch 14/30\n",
            "93/93 [==============================] - 2s 20ms/step - loss: -2405968.2500 - acc: 0.9954 - val_loss: 1.6351e-15 - val_acc: 1.0000\n",
            "Epoch 15/30\n",
            "93/93 [==============================] - 2s 20ms/step - loss: -3181772.7500 - acc: 0.9849 - val_loss: 0.0000e+00 - val_acc: 1.0000\n",
            "Epoch 16/30\n",
            "93/93 [==============================] - 2s 20ms/step - loss: -4069706.5000 - acc: 0.9954 - val_loss: 0.0000e+00 - val_acc: 1.0000\n",
            "Epoch 17/30\n",
            "93/93 [==============================] - 2s 20ms/step - loss: -5076643.0000 - acc: 0.9846 - val_loss: 0.0000e+00 - val_acc: 1.0000\n",
            "Epoch 18/30\n",
            "93/93 [==============================] - 2s 20ms/step - loss: -6250795.0000 - acc: 0.9954 - val_loss: 0.0000e+00 - val_acc: 1.0000\n",
            "Epoch 19/30\n",
            "93/93 [==============================] - 2s 20ms/step - loss: -7643706.5000 - acc: 0.9852 - val_loss: 0.0000e+00 - val_acc: 1.0000\n",
            "Epoch 20/30\n",
            "93/93 [==============================] - 2s 20ms/step - loss: -9180233.0000 - acc: 0.9954 - val_loss: 0.0000e+00 - val_acc: 1.0000\n",
            "Epoch 21/30\n",
            "93/93 [==============================] - 2s 20ms/step - loss: -10938735.0000 - acc: 0.9849 - val_loss: 0.0000e+00 - val_acc: 1.0000\n",
            "Epoch 22/30\n",
            "93/93 [==============================] - 2s 21ms/step - loss: -12930393.0000 - acc: 0.9954 - val_loss: 0.0000e+00 - val_acc: 1.0000\n",
            "Epoch 23/30\n",
            "93/93 [==============================] - 2s 20ms/step - loss: -15200648.0000 - acc: 0.9846 - val_loss: 1.2624e-09 - val_acc: 1.0000\n",
            "Epoch 24/30\n",
            "93/93 [==============================] - 2s 20ms/step - loss: -17758934.0000 - acc: 0.9846 - val_loss: 0.0000e+00 - val_acc: 1.0000\n",
            "Epoch 25/30\n",
            "93/93 [==============================] - 2s 20ms/step - loss: -20471204.0000 - acc: 0.9849 - val_loss: 0.0000e+00 - val_acc: 1.0000\n",
            "Epoch 26/30\n",
            "93/93 [==============================] - 2s 20ms/step - loss: -23564524.0000 - acc: 0.9954 - val_loss: 0.0000e+00 - val_acc: 1.0000\n",
            "Epoch 27/30\n",
            "93/93 [==============================] - 2s 20ms/step - loss: -26944640.0000 - acc: 0.9846 - val_loss: 0.0000e+00 - val_acc: 1.0000\n",
            "Epoch 28/30\n",
            "93/93 [==============================] - 2s 21ms/step - loss: -30677620.0000 - acc: 0.9954 - val_loss: 0.0000e+00 - val_acc: 1.0000\n",
            "Epoch 29/30\n",
            "93/93 [==============================] - 2s 21ms/step - loss: -34612020.0000 - acc: 0.9849 - val_loss: 0.0000e+00 - val_acc: 1.0000\n",
            "Epoch 30/30\n",
            "93/93 [==============================] - 2s 20ms/step - loss: -38850868.0000 - acc: 0.9954 - val_loss: 0.0000e+00 - val_acc: 1.0000\n"
          ]
        }
      ]
    },
    {
      "cell_type": "code",
      "source": [
        "model.save('/content/sample_data/my_model_1.h5',)"
      ],
      "metadata": {
        "id": "ST5ti1nfSYJ2"
      },
      "execution_count": 22,
      "outputs": []
    }
  ]
}